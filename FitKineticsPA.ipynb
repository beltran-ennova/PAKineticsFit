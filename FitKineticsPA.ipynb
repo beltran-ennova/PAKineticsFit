{
 "cells": [
  {
   "attachments": {},
   "cell_type": "markdown",
   "metadata": {},
   "source": [
    "# Tuning the kinetic parameters for asphaltene precipitation and aggregation\n",
    "\n",
    "This code calculates kp and kag coefficients to fit the differential equation system to experimental data. From the best calculated kp and kag, a0, a1 and c0 coefficients are calculated. These coefficients depend on Temperature and viscosity.\n",
    "\n",
    "In the case of a Python script file (`*.py`), I will write a [module-level docstring][mod_docstring] (because you can't write markdown in a Python script).\n",
    "\n",
    "<!--refs-->\n",
    "[mod_docstring]: https://realpython.com/documenting-python-code/"
   ]
  },
  {
   "cell_type": "code",
   "execution_count": 483,
   "metadata": {},
   "outputs": [],
   "source": [
    "# import packages\n",
    "import pandas as pd\n",
    "import numpy as np\n",
    "import matplotlib.pyplot as plt\n",
    "from scipy.integrate import solve_ivp\n",
    "from scipy.optimize import curve_fit\n",
    "from sklearn.metrics import r2_score\n",
    "import sys"
   ]
  },
  {
   "cell_type": "code",
   "execution_count": 484,
   "metadata": {},
   "outputs": [
    {
     "data": {
      "text/html": [
       "<div>\n",
       "<style scoped>\n",
       "    .dataframe tbody tr th:only-of-type {\n",
       "        vertical-align: middle;\n",
       "    }\n",
       "\n",
       "    .dataframe tbody tr th {\n",
       "        vertical-align: top;\n",
       "    }\n",
       "\n",
       "    .dataframe thead th {\n",
       "        text-align: right;\n",
       "    }\n",
       "</style>\n",
       "<table border=\"1\" class=\"dataframe\">\n",
       "  <thead>\n",
       "    <tr style=\"text-align: right;\">\n",
       "      <th></th>\n",
       "      <th>Set</th>\n",
       "      <th>sheet</th>\n",
       "      <th>T (F)</th>\n",
       "      <th>P (bar)</th>\n",
       "      <th>Base</th>\n",
       "      <th>Solvent</th>\n",
       "      <th>S Amt (vol%)</th>\n",
       "      <th>Precip</th>\n",
       "      <th>P Amt (vol%)</th>\n",
       "      <th>Ceq (wtf Asp L1/T)</th>\n",
       "      <th>visco_L1 (cP)</th>\n",
       "      <th>dens_L1 (g/cc)</th>\n",
       "      <th>SP_L1 (MPa^0.5)</th>\n",
       "      <th>dens_Asp (g/cc)</th>\n",
       "      <th>SP_Asp (MPa^0.5)</th>\n",
       "      <th>Ca0 (kg/m3)</th>\n",
       "    </tr>\n",
       "  </thead>\n",
       "  <tbody>\n",
       "    <tr>\n",
       "      <th>0</th>\n",
       "      <td>1</td>\n",
       "      <td>Set1</td>\n",
       "      <td>104.0</td>\n",
       "      <td>1.0</td>\n",
       "      <td>STL</td>\n",
       "      <td>Tol</td>\n",
       "      <td>75.0</td>\n",
       "      <td>C6</td>\n",
       "      <td>55.0</td>\n",
       "      <td>0.858282</td>\n",
       "      <td>0.485850</td>\n",
       "      <td>0.748791</td>\n",
       "      <td>15.670999</td>\n",
       "      <td>NaN</td>\n",
       "      <td>22.889265</td>\n",
       "      <td>14.752502</td>\n",
       "    </tr>\n",
       "    <tr>\n",
       "      <th>1</th>\n",
       "      <td>2</td>\n",
       "      <td>Set2</td>\n",
       "      <td>104.0</td>\n",
       "      <td>1.0</td>\n",
       "      <td>STL</td>\n",
       "      <td>Tol</td>\n",
       "      <td>75.0</td>\n",
       "      <td>C7</td>\n",
       "      <td>60.0</td>\n",
       "      <td>0.833403</td>\n",
       "      <td>0.537347</td>\n",
       "      <td>0.762251</td>\n",
       "      <td>15.816842</td>\n",
       "      <td>NaN</td>\n",
       "      <td>22.889265</td>\n",
       "      <td>13.570000</td>\n",
       "    </tr>\n",
       "    <tr>\n",
       "      <th>2</th>\n",
       "      <td>3</td>\n",
       "      <td>Set3</td>\n",
       "      <td>104.0</td>\n",
       "      <td>1.0</td>\n",
       "      <td>STL</td>\n",
       "      <td>Tol</td>\n",
       "      <td>75.0</td>\n",
       "      <td>C8</td>\n",
       "      <td>60.0</td>\n",
       "      <td>0.848633</td>\n",
       "      <td>0.614240</td>\n",
       "      <td>0.777780</td>\n",
       "      <td>15.970580</td>\n",
       "      <td>NaN</td>\n",
       "      <td>22.889265</td>\n",
       "      <td>13.846450</td>\n",
       "    </tr>\n",
       "    <tr>\n",
       "      <th>3</th>\n",
       "      <td>4</td>\n",
       "      <td>Set4</td>\n",
       "      <td>176.0</td>\n",
       "      <td>1.0</td>\n",
       "      <td>STL</td>\n",
       "      <td>Tol</td>\n",
       "      <td>75.0</td>\n",
       "      <td>C6</td>\n",
       "      <td>62.0</td>\n",
       "      <td>0.837227</td>\n",
       "      <td>0.362247</td>\n",
       "      <td>0.732269</td>\n",
       "      <td>15.038418</td>\n",
       "      <td>NaN</td>\n",
       "      <td>22.349547</td>\n",
       "      <td>12.466965</td>\n",
       "    </tr>\n",
       "    <tr>\n",
       "      <th>4</th>\n",
       "      <td>5</td>\n",
       "      <td>Set5</td>\n",
       "      <td>176.0</td>\n",
       "      <td>1.0</td>\n",
       "      <td>STL</td>\n",
       "      <td>Tol</td>\n",
       "      <td>75.0</td>\n",
       "      <td>C7</td>\n",
       "      <td>62.0</td>\n",
       "      <td>0.853216</td>\n",
       "      <td>0.419526</td>\n",
       "      <td>0.749536</td>\n",
       "      <td>15.227162</td>\n",
       "      <td>NaN</td>\n",
       "      <td>22.349547</td>\n",
       "      <td>12.760944</td>\n",
       "    </tr>\n",
       "    <tr>\n",
       "      <th>5</th>\n",
       "      <td>6</td>\n",
       "      <td>Set6</td>\n",
       "      <td>176.0</td>\n",
       "      <td>1.0</td>\n",
       "      <td>STL</td>\n",
       "      <td>Tol</td>\n",
       "      <td>75.0</td>\n",
       "      <td>C8</td>\n",
       "      <td>62.0</td>\n",
       "      <td>0.858430</td>\n",
       "      <td>0.550031</td>\n",
       "      <td>0.780260</td>\n",
       "      <td>15.563012</td>\n",
       "      <td>NaN</td>\n",
       "      <td>22.349547</td>\n",
       "      <td>13.284011</td>\n",
       "    </tr>\n",
       "  </tbody>\n",
       "</table>\n",
       "</div>"
      ],
      "text/plain": [
       "   Set sheet  T (F)  P (bar) Base Solvent  S Amt (vol%) Precip  P Amt (vol%)  \\\n",
       "0    1  Set1  104.0      1.0  STL     Tol          75.0     C6          55.0   \n",
       "1    2  Set2  104.0      1.0  STL     Tol          75.0     C7          60.0   \n",
       "2    3  Set3  104.0      1.0  STL     Tol          75.0     C8          60.0   \n",
       "3    4  Set4  176.0      1.0  STL     Tol          75.0     C6          62.0   \n",
       "4    5  Set5  176.0      1.0  STL     Tol          75.0     C7          62.0   \n",
       "5    6  Set6  176.0      1.0  STL     Tol          75.0     C8          62.0   \n",
       "\n",
       "   Ceq (wtf Asp L1/T)  visco_L1 (cP)  dens_L1 (g/cc)  SP_L1 (MPa^0.5)  \\\n",
       "0            0.858282       0.485850        0.748791        15.670999   \n",
       "1            0.833403       0.537347        0.762251        15.816842   \n",
       "2            0.848633       0.614240        0.777780        15.970580   \n",
       "3            0.837227       0.362247        0.732269        15.038418   \n",
       "4            0.853216       0.419526        0.749536        15.227162   \n",
       "5            0.858430       0.550031        0.780260        15.563012   \n",
       "\n",
       "   dens_Asp (g/cc)  SP_Asp (MPa^0.5)  Ca0 (kg/m3)  \n",
       "0              NaN         22.889265    14.752502  \n",
       "1              NaN         22.889265    13.570000  \n",
       "2              NaN         22.889265    13.846450  \n",
       "3              NaN         22.349547    12.466965  \n",
       "4              NaN         22.349547    12.760944  \n",
       "5              NaN         22.349547    13.284011  "
      ]
     },
     "metadata": {},
     "output_type": "display_data"
    }
   ],
   "source": [
    "# read excel data\n",
    "file_name = 'Ag_kinetics.xlsx'\n",
    "df = pd.read_excel(file_name, sheet_name='Info', header=7, usecols='b:q')\n",
    "df = df[df['sheet'].notna()]\n",
    "display(df)"
   ]
  },
  {
   "cell_type": "code",
   "execution_count": 485,
   "metadata": {},
   "outputs": [],
   "source": [
    "# pass raw data to numpy arrays\n",
    "data = df.to_numpy()\n",
    "ceq_set = data[:,9]\n",
    "mu = data[:,10]\n",
    "ca0 = data[:,15]\n",
    "sheet_names = data[:,1]\n",
    "T_set = data[:2]"
   ]
  },
  {
   "cell_type": "code",
   "execution_count": 486,
   "metadata": {},
   "outputs": [],
   "source": [
    "t_exp = []\n",
    "c_exp = []\n",
    "\n",
    "# loop over the sheet names and store time and experimental data\n",
    "# into t_exp and c_exp\n",
    "for sheet_name in sheet_names:\n",
    "    # read the relevant columns from the sheet into a DataFrame\n",
    "    df = pd.read_excel(file_name, sheet_name=sheet_name, usecols='b:c')\n",
    "    df = df.to_numpy()\n",
    "    t_exp.append(df[:,0])\n",
    "    c_exp.append(df[:,1])"
   ]
  },
  {
   "cell_type": "code",
   "execution_count": 487,
   "metadata": {},
   "outputs": [],
   "source": [
    "# define functions\n",
    "# NOTE: you don't need to write docstrings for every function (though you could), but write enough so that it is clear how to use your functions\n",
    "def derivatives(t, y, kp, kag):\n",
    "    '''\n",
    "    arguments\n",
    "    ---------\n",
    "    t : float\n",
    "        time [min]\n",
    "    y : array[float]\n",
    "        xyz\n",
    "    kP : float\n",
    "        precipitation kinetics [1/s]\n",
    "    kAg : float\n",
    "        aggregation kinetics [1/s]\n",
    "    \n",
    "    return\n",
    "    ------\n",
    "    '''\n",
    "    cf, cag, c = y\n",
    "    \n",
    "    dcfdt = -kp*(cf - ceq)\n",
    "    dcagdt = kag*c**2\n",
    "    dcdt = kp*(cf - ceq) - kag*c**2\n",
    "    \n",
    "    return [dcfdt, dcagdt, dcdt]\n",
    "\n",
    "# initial conditions\n",
    "y0 = [1.0, 0.0, 0.0]\n",
    "\n",
    "# Define a function that returns the model values for given parameters\n",
    "def model(t, kp, kag):\n",
    "    sol = solve_ivp(fun=lambda t, y: derivatives(t, y, kp, kag), t_span=t_span, y0=y0, t_eval=t)\n",
    "    c_model = sol.y[0]\n",
    "    return c_model"
   ]
  },
  {
   "attachments": {},
   "cell_type": "markdown",
   "metadata": {},
   "source": [
    "Use curve_fit to find the best coefficient values to fit experimental data"
   ]
  },
  {
   "cell_type": "code",
   "execution_count": 488,
   "metadata": {},
   "outputs": [
    {
     "name": "stdout",
     "output_type": "stream",
     "text": [
      "Best kp: [0.0685089763327784, 0.07836451029479373, 0.9489825308687698, 0.06411125478835496, 0.05511364198445039, 0.02624017398957867]\n",
      "Best kag: [1.5023463741710446, 1.8665432485332636, 11.31032824153077, 2.2225162295462457, 1.233378734172117, 0.8060831177602883]\n"
     ]
    }
   ],
   "source": [
    "#define initial guesses\n",
    "p0 = np.array([.001, .001])\n",
    "\n",
    "#initialize best coeffiecient vector\n",
    "kag_best = []\n",
    "kp_best = []\n",
    "\n",
    "#this for loop takes experimental data from each set including its respective ceq and time span.\n",
    "#Coefficients are calculated using curve_fit\n",
    "for i in range(len(t_exp)):\n",
    "    t_ = t_exp[i]\n",
    "    c_ = c_exp[i]\n",
    "    ceq = ceq_set[i]\n",
    "    # time span\n",
    "    t_span = (0.0, t_exp[i][-1])\n",
    "    # Use curve_fit to find the best values for kp and kag\n",
    "    popt, pcov = curve_fit(model, t_, c_, p0=p0, method='trf')\n",
    "    kag_best.append(popt[0])\n",
    "    kp_best.append(popt[1])\n",
    "\n",
    "# Print the best values\n",
    "print(f\"Best kp: {kp_best}\")\n",
    "print(f\"Best kag: {kag_best}\")"
   ]
  },
  {
   "cell_type": "code",
   "execution_count": 489,
   "metadata": {},
   "outputs": [
    {
     "name": "stdout",
     "output_type": "stream",
     "text": [
      "R2 Score: 86.58991252398111 %\n"
     ]
    },
    {
     "data": {
      "image/png": "[encoded data removed]",
      "text/plain": [
       "<Figure size 432x288 with 1 Axes>"
      ]
     },
     "metadata": {
      "needs_background": "light"
     },
     "output_type": "display_data"
    },
    {
     "name": "stdout",
     "output_type": "stream",
     "text": [
      "R2 Score: 49.85223307482135 %\n"
     ]
    },
    {
     "data": {
      "image/png": "[encoded data removed]",
      "text/plain": [
       "<Figure size 432x288 with 1 Axes>"
      ]
     },
     "metadata": {
      "needs_background": "light"
     },
     "output_type": "display_data"
    },
    {
     "name": "stdout",
     "output_type": "stream",
     "text": [
      "R2 Score: 27.286920678861893 %\n"
     ]
    },
    {
     "data": {
      "image/png": "[encoded data removed]",
      "text/plain": [
       "<Figure size 432x288 with 1 Axes>"
      ]
     },
     "metadata": {
      "needs_background": "light"
     },
     "output_type": "display_data"
    },
    {
     "name": "stdout",
     "output_type": "stream",
     "text": [
      "R2 Score: 79.38256991652557 %\n"
     ]
    },
    {
     "data": {
      "image/png": "[encoded data removed]",
      "text/plain": [
       "<Figure size 432x288 with 1 Axes>"
      ]
     },
     "metadata": {
      "needs_background": "light"
     },
     "output_type": "display_data"
    },
    {
     "name": "stdout",
     "output_type": "stream",
     "text": [
      "R2 Score: 95.001174984558 %\n"
     ]
    },
    {
     "data": {
      "image/png": "[encoded data removed]",
      "text/plain": [
       "<Figure size 432x288 with 1 Axes>"
      ]
     },
     "metadata": {
      "needs_background": "light"
     },
     "output_type": "display_data"
    },
    {
     "name": "stdout",
     "output_type": "stream",
     "text": [
      "R2 Score: 93.26140266235241 %\n"
     ]
    },
    {
     "data": {
      "image/png": "[encoded data removed]",
      "text/plain": [
       "<Figure size 432x288 with 1 Axes>"
      ]
     },
     "metadata": {
      "needs_background": "light"
     },
     "output_type": "display_data"
    }
   ],
   "source": [
    "for i in range(len(t_exp)):\n",
    "    \n",
    "    t_span = (0.0, t_exp[i][-1])\n",
    "    sol_best = solve_ivp(fun=lambda t, y: derivatives(t, y, kp_best[i], kag_best[i]), t_span=t_span, y0=y0, t_eval=t_exp[i])\n",
    "    \n",
    "    print('R2 Score:',r2_score(c_exp[i],sol_best.y[1])*100,'%')\n",
    "    plt.plot(sol_best.t, sol_best.y[1], label='cag')\n",
    "    plt.plot(t_exp[i], c_exp[i], label = 'exp', marker ='.', linestyle='None')\n",
    "    plt.legend()\n",
    "    plt.show()"
   ]
  },
  {
   "attachments": {},
   "cell_type": "markdown",
   "metadata": {},
   "source": [
    "Calculating a0, a1 and c0, from the obtained best kp and kag. The coefficients depend on T and mu."
   ]
  },
  {
   "cell_type": "code",
   "execution_count": 490,
   "metadata": {},
   "outputs": [
    {
     "ename": "TypeError",
     "evalue": "Cannot cast array data from dtype('O') to dtype('float64') according to the rule 'safe'",
     "output_type": "error",
     "traceback": [
      "\u001b[1;31m---------------------------------------------------------------------------\u001b[0m",
      "\u001b[1;31mTypeError\u001b[0m                                 Traceback (most recent call last)",
      "\u001b[1;31mTypeError\u001b[0m: Cannot cast array data from dtype('O') to dtype('float64') according to the rule 'safe'"
     ]
    },
    {
     "ename": "error",
     "evalue": "Result from function call is not a proper array of floats.",
     "output_type": "error",
     "traceback": [
      "\u001b[1;31m---------------------------------------------------------------------------\u001b[0m",
      "\u001b[1;31merror\u001b[0m                                     Traceback (most recent call last)",
      "\u001b[1;32mc:\\Users\\luise\\iCloudDrive\\Ennova\\P&A kinetics tuning\\FitKineticsPA.ipynb Cell 11\u001b[0m in \u001b[0;36m<cell line: 20>\u001b[1;34m()\u001b[0m\n\u001b[0;32m     <a href='vscode-notebook-cell:/c%3A/Users/luise/iCloudDrive/Ennova/P%26A%20kinetics%20tuning/FitKineticsPA.ipynb#X13sZmlsZQ%3D%3D?line=17'>18</a>\u001b[0m \u001b[39m# Perform the fit\u001b[39;00m\n\u001b[0;32m     <a href='vscode-notebook-cell:/c%3A/Users/luise/iCloudDrive/Ennova/P%26A%20kinetics%20tuning/FitKineticsPA.ipynb#X13sZmlsZQ%3D%3D?line=18'>19</a>\u001b[0m p0 \u001b[39m=\u001b[39m np\u001b[39m.\u001b[39marray([\u001b[39m.1\u001b[39m, \u001b[39m.1\u001b[39m, \u001b[39m.1\u001b[39m]) \u001b[39m# initial guesses for a0, a1, and c0\u001b[39;00m\n\u001b[1;32m---> <a href='vscode-notebook-cell:/c%3A/Users/luise/iCloudDrive/Ennova/P%26A%20kinetics%20tuning/FitKineticsPA.ipynb#X13sZmlsZQ%3D%3D?line=19'>20</a>\u001b[0m popt, pcov \u001b[39m=\u001b[39m curve_fit(fit_func, data, np\u001b[39m.\u001b[39;49mconcatenate((kp_best, kag_best)), p0\u001b[39m=\u001b[39;49mp0)\n\u001b[0;32m     <a href='vscode-notebook-cell:/c%3A/Users/luise/iCloudDrive/Ennova/P%26A%20kinetics%20tuning/FitKineticsPA.ipynb#X13sZmlsZQ%3D%3D?line=21'>22</a>\u001b[0m \u001b[39m# Extract parameters\u001b[39;00m\n\u001b[0;32m     <a href='vscode-notebook-cell:/c%3A/Users/luise/iCloudDrive/Ennova/P%26A%20kinetics%20tuning/FitKineticsPA.ipynb#X13sZmlsZQ%3D%3D?line=22'>23</a>\u001b[0m a0, a1, c0 \u001b[39m=\u001b[39m popt\n",
      "File \u001b[1;32mc:\\ProgramData\\Anaconda3\\lib\\site-packages\\scipy\\optimize\\minpack.py:789\u001b[0m, in \u001b[0;36mcurve_fit\u001b[1;34m(f, xdata, ydata, p0, sigma, absolute_sigma, check_finite, bounds, method, jac, **kwargs)\u001b[0m\n\u001b[0;32m    787\u001b[0m \u001b[39m# Remove full_output from kwargs, otherwise we're passing it in twice.\u001b[39;00m\n\u001b[0;32m    788\u001b[0m return_full \u001b[39m=\u001b[39m kwargs\u001b[39m.\u001b[39mpop(\u001b[39m'\u001b[39m\u001b[39mfull_output\u001b[39m\u001b[39m'\u001b[39m, \u001b[39mFalse\u001b[39;00m)\n\u001b[1;32m--> 789\u001b[0m res \u001b[39m=\u001b[39m leastsq(func, p0, Dfun\u001b[39m=\u001b[39mjac, full_output\u001b[39m=\u001b[39m\u001b[39m1\u001b[39m, \u001b[39m*\u001b[39m\u001b[39m*\u001b[39mkwargs)\n\u001b[0;32m    790\u001b[0m popt, pcov, infodict, errmsg, ier \u001b[39m=\u001b[39m res\n\u001b[0;32m    791\u001b[0m ysize \u001b[39m=\u001b[39m \u001b[39mlen\u001b[39m(infodict[\u001b[39m'\u001b[39m\u001b[39mfvec\u001b[39m\u001b[39m'\u001b[39m])\n",
      "File \u001b[1;32mc:\\ProgramData\\Anaconda3\\lib\\site-packages\\scipy\\optimize\\minpack.py:423\u001b[0m, in \u001b[0;36mleastsq\u001b[1;34m(func, x0, args, Dfun, full_output, col_deriv, ftol, xtol, gtol, maxfev, epsfcn, factor, diag)\u001b[0m\n\u001b[0;32m    421\u001b[0m     \u001b[39mif\u001b[39;00m maxfev \u001b[39m==\u001b[39m \u001b[39m0\u001b[39m:\n\u001b[0;32m    422\u001b[0m         maxfev \u001b[39m=\u001b[39m \u001b[39m200\u001b[39m\u001b[39m*\u001b[39m(n \u001b[39m+\u001b[39m \u001b[39m1\u001b[39m)\n\u001b[1;32m--> 423\u001b[0m     retval \u001b[39m=\u001b[39m _minpack\u001b[39m.\u001b[39;49m_lmdif(func, x0, args, full_output, ftol, xtol,\n\u001b[0;32m    424\u001b[0m                              gtol, maxfev, epsfcn, factor, diag)\n\u001b[0;32m    425\u001b[0m \u001b[39melse\u001b[39;00m:\n\u001b[0;32m    426\u001b[0m     \u001b[39mif\u001b[39;00m col_deriv:\n",
      "\u001b[1;31merror\u001b[0m: Result from function call is not a proper array of floats."
     ]
    }
   ],
   "source": [
    "# Define the functions for kp and kag\n",
    "def kp(T, a0, a1):\n",
    "    return a0 / np.exp(a1 / T)\n",
    "\n",
    "def kag(T, mu, ca0, c0):\n",
    "    R = 8.314 # J/mol.K, gas constant\n",
    "    return ca0 * ((R * T) / (mu * 1000)) * c0\n",
    "\n",
    "# Define the function to fit\n",
    "def fit_func(data, a0, a1, c0):\n",
    "    T, mu = data\n",
    "    k = np.concatenate((kp(T, a0, a1), kag(T, mu, ca0, c0)))\n",
    "    return k\n",
    "\n",
    "# Define the data as a tuple\n",
    "data = (T, mu)\n",
    "\n",
    "# Perform the fit\n",
    "p0 = np.array([.1, .1, .1]) # initial guesses for a0, a1, and c0\n",
    "popt, pcov = curve_fit(fit_func, data, np.concatenate((kp_best, kag_best)), p0=p0)\n",
    "\n",
    "# Extract parameters\n",
    "a0, a1, c0 = popt\n",
    "\n",
    "# Print the results\n",
    "print(f\"a0 = {a0:.4f}\")\n",
    "print(f\"a1 = {a1:.4f}\")\n",
    "print(f\"c0 = {c0:.4f}\")"
   ]
  },
  {
   "attachments": {},
   "cell_type": "markdown",
   "metadata": {},
   "source": [
    "Using these coefficients solve the differential equations to obtain a new approximation"
   ]
  },
  {
   "cell_type": "code",
   "execution_count": null,
   "metadata": {},
   "outputs": [],
   "source": [
    "# define functions\n",
    "# NOTE: you don't need to write docstrings for every function (though you could), but write enough so that it is clear how to use your functions\n",
    "set = 2\n",
    "def derivatives_a0a1c0(t, y, a0, a1, c0):\n",
    "    R = 8.314\n",
    "    cf, cag, c = y\n",
    "    \n",
    "    dcfdt = -(a0/np.exp(a1/T[set]))*(cf - ceq)\n",
    "    dcagdt = (ca0[set]*(.00089)*((R*T[set])/(mu[set]))*c0)*c**2\n",
    "    dcdt = (a0/np.exp(a1/T[set]))*(cf - ceq) - (ca0[set]*(.00089)*((R*T[set])/(mu[set]))*c0)*c**2\n",
    "    \n",
    "    return [dcfdt, dcagdt, dcdt]\n",
    "\n",
    "# time span\n",
    "t_span = (0.0, t_exp[-1])\n",
    "\n",
    "# initial conditions\n",
    "y0 = [1.0, 0.0, 0.0]\n",
    "\n",
    "# Define a function that returns the model values for given parameters\n",
    "def model(t, a0, a1, c0):\n",
    "    sol = solve_ivp(fun=lambda t, y: derivatives_a0a1c0(t, y, a0, a1, c0), t_span=t_span, y0=y0, t_eval=t_exp)\n",
    "    c_model = sol.y[0]\n",
    "    return c_model"
   ]
  },
  {
   "cell_type": "markdown",
   "metadata": {},
   "source": [
    "Plot the new function given by coefficients a0, a1 and c0"
   ]
  },
  {
   "cell_type": "code",
   "execution_count": null,
   "metadata": {},
   "outputs": [
    {
     "ename": "TypeError",
     "evalue": "only size-1 arrays can be converted to Python scalars",
     "output_type": "error",
     "traceback": [
      "\u001b[1;31m---------------------------------------------------------------------------\u001b[0m",
      "\u001b[1;31mTypeError\u001b[0m                                 Traceback (most recent call last)",
      "\u001b[1;32mc:\\Users\\luise\\iCloudDrive\\Ennova\\P&A kinetics tuning\\FitKineticsPA.ipynb Cell 15\u001b[0m in \u001b[0;36m<cell line: 2>\u001b[1;34m()\u001b[0m\n\u001b[0;32m      <a href='vscode-notebook-cell:/c%3A/Users/luise/iCloudDrive/Ennova/P%26A%20kinetics%20tuning/FitKineticsPA.ipynb#X20sZmlsZQ%3D%3D?line=0'>1</a>\u001b[0m \u001b[39m# Plot the model predictions using the best coefficients\u001b[39;00m\n\u001b[1;32m----> <a href='vscode-notebook-cell:/c%3A/Users/luise/iCloudDrive/Ennova/P%26A%20kinetics%20tuning/FitKineticsPA.ipynb#X20sZmlsZQ%3D%3D?line=1'>2</a>\u001b[0m sol_best \u001b[39m=\u001b[39m solve_ivp(fun\u001b[39m=\u001b[39;49m\u001b[39mlambda\u001b[39;49;00m t, y: derivatives_a0a1c0(t, y, a0, a1, c0), t_span\u001b[39m=\u001b[39;49mt_span, y0\u001b[39m=\u001b[39;49my0, t_eval\u001b[39m=\u001b[39;49mt_exp)\n\u001b[0;32m      <a href='vscode-notebook-cell:/c%3A/Users/luise/iCloudDrive/Ennova/P%26A%20kinetics%20tuning/FitKineticsPA.ipynb#X20sZmlsZQ%3D%3D?line=2'>3</a>\u001b[0m plt\u001b[39m.\u001b[39mplot(t_exp, c_exp, label\u001b[39m=\u001b[39m\u001b[39m'\u001b[39m\u001b[39mexp\u001b[39m\u001b[39m'\u001b[39m)\n\u001b[0;32m      <a href='vscode-notebook-cell:/c%3A/Users/luise/iCloudDrive/Ennova/P%26A%20kinetics%20tuning/FitKineticsPA.ipynb#X20sZmlsZQ%3D%3D?line=3'>4</a>\u001b[0m \u001b[39m#plt.plot(sol_best.t, sol_best.y[0], label='cf')\u001b[39;00m\n",
      "File \u001b[1;32mc:\\ProgramData\\Anaconda3\\lib\\site-packages\\scipy\\integrate\\_ivp\\ivp.py:508\u001b[0m, in \u001b[0;36msolve_ivp\u001b[1;34m(fun, t_span, y0, method, t_eval, dense_output, events, vectorized, args, **options)\u001b[0m\n\u001b[0;32m    503\u001b[0m \u001b[39mif\u001b[39;00m method \u001b[39mnot\u001b[39;00m \u001b[39min\u001b[39;00m METHODS \u001b[39mand\u001b[39;00m \u001b[39mnot\u001b[39;00m (\n\u001b[0;32m    504\u001b[0m         inspect\u001b[39m.\u001b[39misclass(method) \u001b[39mand\u001b[39;00m \u001b[39missubclass\u001b[39m(method, OdeSolver)):\n\u001b[0;32m    505\u001b[0m     \u001b[39mraise\u001b[39;00m \u001b[39mValueError\u001b[39;00m(\u001b[39m\"\u001b[39m\u001b[39m`method` must be one of \u001b[39m\u001b[39m{}\u001b[39;00m\u001b[39m or OdeSolver class.\u001b[39m\u001b[39m\"\u001b[39m\n\u001b[0;32m    506\u001b[0m                      \u001b[39m.\u001b[39mformat(METHODS))\n\u001b[1;32m--> 508\u001b[0m t0, tf \u001b[39m=\u001b[39m \u001b[39mfloat\u001b[39m(t_span[\u001b[39m0\u001b[39m]), \u001b[39mfloat\u001b[39;49m(t_span[\u001b[39m1\u001b[39;49m])\n\u001b[0;32m    510\u001b[0m \u001b[39mif\u001b[39;00m args \u001b[39mis\u001b[39;00m \u001b[39mnot\u001b[39;00m \u001b[39mNone\u001b[39;00m:\n\u001b[0;32m    511\u001b[0m     \u001b[39m# Wrap the user's fun (and jac, if given) in lambdas to hide the\u001b[39;00m\n\u001b[0;32m    512\u001b[0m     \u001b[39m# additional parameters.  Pass in the original fun as a keyword\u001b[39;00m\n\u001b[0;32m    513\u001b[0m     \u001b[39m# argument to keep it in the scope of the lambda.\u001b[39;00m\n\u001b[0;32m    514\u001b[0m     fun \u001b[39m=\u001b[39m \u001b[39mlambda\u001b[39;00m t, x, fun\u001b[39m=\u001b[39mfun: fun(t, x, \u001b[39m*\u001b[39margs)\n",
      "\u001b[1;31mTypeError\u001b[0m: only size-1 arrays can be converted to Python scalars"
     ]
    }
   ],
   "source": [
    "# Plot the model predictions using the best coefficients\n",
    "sol_best = solve_ivp(fun=lambda t, y: derivatives_a0a1c0(t, y, a0, a1, c0), t_span=t_span, y0=y0, t_eval=t_exp)\n",
    "plt.plot(t_exp, c_exp, label='exp')\n",
    "#plt.plot(sol_best.t, sol_best.y[0], label='cf')\n",
    "plt.plot(sol_best.t, sol_best.y[1], label='cag')\n",
    "#plt.plot(sol_best.t, sol_best.y[2], label='c')\n",
    "plt.legend()\n",
    "plt.xlabel('Time')\n",
    "plt.ylabel('Concentration')\n",
    "plt.show()\n",
    "\n",
    "#Show R2\n",
    "print('R2 Score:',r2_score(c_exp,sol_best.y[1])*100,'%')"
   ]
  }
 ],
 "metadata": {
  "kernelspec": {
   "display_name": "base",
   "language": "python",
   "name": "python3"
  },
  "language_info": {
   "codemirror_mode": {
    "name": "ipython",
    "version": 3
   },
   "file_extension": ".py",
   "mimetype": "text/x-python",
   "name": "python",
   "nbconvert_exporter": "python",
   "pygments_lexer": "ipython3",
   "version": "3.9.12"
  },
  "orig_nbformat": 4
 },
 "nbformat": 4,
 "nbformat_minor": 2
}
