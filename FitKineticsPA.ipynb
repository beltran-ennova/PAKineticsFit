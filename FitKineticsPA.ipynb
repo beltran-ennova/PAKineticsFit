{
 "cells": [
  {
   "attachments": {},
   "cell_type": "markdown",
   "metadata": {},
   "source": [
    "# Tuning the kinetic parameters for asphaltene precipitation and aggregation\n",
    "\n",
    "This code calculates kp and kag coefficients to fit the differential equation system to experimental data. From the best calculated kp and kag, a0, a1 and c0 coefficients are calculated. These coefficients depend on Temperature and viscosity.\n",
    "\n",
    "In the case of a Python script file (`*.py`), I will write a [module-level docstring][mod_docstring] (because you can't write markdown in a Python script).\n",
    "\n",
    "<!--refs-->\n",
    "[mod_docstring]: https://realpython.com/documenting-python-code/"
   ]
  },
  {
   "cell_type": "code",
   "execution_count": null,
   "metadata": {},
   "outputs": [],
   "source": [
    "# import packages\n",
    "import pandas as pd\n",
    "import numpy as np\n",
    "import matplotlib.pyplot as plt\n",
    "from scipy.integrate import solve_ivp\n",
    "from scipy.optimize import curve_fit\n",
    "from sklearn.metrics import r2_score"
   ]
  },
  {
   "cell_type": "code",
   "execution_count": null,
   "metadata": {},
   "outputs": [],
   "source": [
    "# read excel data\n",
    "file_name = 'Ag_kinetics.xlsx'\n",
    "df = pd.read_excel(file_name, sheet_name='Info', header=7, usecols='b:q')\n",
    "df = df[df['sheet'].notna()]\n",
    "display(df)"
   ]
  },
  {
   "cell_type": "code",
   "execution_count": null,
   "metadata": {},
   "outputs": [],
   "source": [
    "# pass raw data to numpy arrays\n",
    "data = df.to_numpy()\n",
    "ceq = data[:,9]\n",
    "mu = data[:,10]\n",
    "ca0 = data[:,15]\n",
    "sheet_names = data[:,1]"
   ]
  },
  {
   "cell_type": "code",
   "execution_count": 35,
   "metadata": {},
   "outputs": [],
   "source": [
    "t_exp = []\n",
    "c_exp = []\n",
    "\n",
    "# loop over the sheet names and read each sheet into a separate DataFrame\n",
    "for sheet_name in sheet_names:\n",
    "    # read the relevant columns from the sheet into a DataFrame\n",
    "    df = pd.read_excel(file_name, sheet_name=sheet_name, usecols='b:c')\n",
    "    df = df.to_numpy()\n",
    "    t_exp.append(df[:,0])\n",
    "    c_exp.append(df[:,1])"
   ]
  },
  {
   "cell_type": "code",
   "execution_count": null,
   "metadata": {},
   "outputs": [],
   "source": [
    "# define functions\n",
    "# NOTE: you don't need to write docstrings for every function (though you could), but write enough so that it is clear how to use your functions\n",
    "def derivatives(t, y, kp, kag):\n",
    "    '''\n",
    "    arguments\n",
    "    ---------\n",
    "    t : float\n",
    "        time [min]\n",
    "    y : array[float]\n",
    "        xyz\n",
    "    kP : float\n",
    "        precipitation kinetics [1/s]\n",
    "    kAg : float\n",
    "        aggregation kinetics [1/s]\n",
    "    \n",
    "    return\n",
    "    ------\n",
    "    '''\n",
    "    cf, cag, c = y\n",
    "    \n",
    "    dcfdt = -kp*(cf - ceq)\n",
    "    dcagdt = kag*c**2\n",
    "    dcdt = kp*(cf - ceq) - kag*c**2\n",
    "    \n",
    "    return [dcfdt, dcagdt, dcdt]\n",
    "\n",
    "# time span\n",
    "t_span = (0.0, t_exp[-1])\n",
    "\n",
    "# initial conditions\n",
    "y0 = [1.0, 0.0, 0.0]\n",
    "\n",
    "# Define a function that returns the model values for given parameters\n",
    "def model(t, kp, kag):\n",
    "    sol = solve_ivp(fun=lambda t, y: derivatives(t, y, kp, kag), t_span=t_span, y0=y0, t_eval=t)\n",
    "    c_model = sol.y[0]\n",
    "    return c_model"
   ]
  },
  {
   "attachments": {},
   "cell_type": "markdown",
   "metadata": {},
   "source": [
    "Use curve_fit to find the best coefficient values to fit experimental data"
   ]
  },
  {
   "cell_type": "code",
   "execution_count": null,
   "metadata": {},
   "outputs": [],
   "source": [
    "#define initial guesses\n",
    "p0 = [.5, .5]\n",
    "\n",
    "# Use curve_fit to find the best values for kp and kag\n",
    "popt, pcov = curve_fit(model, t_exp[:,1], c_exp[:,1], p0=p0, method='dogbox')\n",
    "\n",
    "# Extract the best values for kp and kag\n",
    "kp_best, kag_best = popt\n",
    "\n",
    "# Print the best values\n",
    "print(f\"Best kp: {kp_best}\")\n",
    "print(f\"Best kag: {kag_best}\")"
   ]
  },
  {
   "cell_type": "code",
   "execution_count": null,
   "metadata": {},
   "outputs": [],
   "source": [
    "# Plot the model predictions using the best coefficients\n",
    "sol_best = solve_ivp(fun=lambda t, y: derivatives(t, y, kp_best, kag_best), t_span=t_span, y0=y0, t_eval=t_exp)\n",
    "plt.plot(t_exp, c_exp, label='exp')\n",
    "#plt.plot(sol_best.t, sol_best.y[0], label='cf')\n",
    "plt.plot(sol_best.t, sol_best.y[1], label='cag')\n",
    "#plt.plot(sol_best.t, sol_best.y[2], label='c')\n",
    "plt.legend()\n",
    "plt.xlabel('Time')\n",
    "plt.ylabel('Concentration')\n",
    "plt.show()\n",
    "\n",
    "#Show R2\n",
    "print('R2 Score:',r2_score(c_exp,sol_best.y[1])*100,'%')"
   ]
  },
  {
   "attachments": {},
   "cell_type": "markdown",
   "metadata": {},
   "source": [
    "Calculating a0, a1 and c0, from the obtained best kp and kag. The coefficients depend on T and mu."
   ]
  },
  {
   "cell_type": "code",
   "execution_count": null,
   "metadata": {},
   "outputs": [],
   "source": [
    "# Define the functions for kp and kag\n",
    "def kp(T, a0, a1):\n",
    "    return a0 / np.exp(a1 / T)\n",
    "\n",
    "def kag(T, mu, ca0, c0):\n",
    "    R = 8.314 # J/mol.K, gas constant\n",
    "    return ca0 * ((R * T) / (mu * 1000)) * c0\n",
    "\n",
    "# Define the data points\n",
    "T = np.array([313, 313, 313, 353, 353, 353])\n",
    "best_kp_set = np.array([1.9981, 4.9979, 8.0007, 4.9997, 4.9739, 2.7972])\n",
    "best_kag_set = np.array([0.4909, 0.7161, 0.2528, 0.3990, 0.3091, 0.2873])\n",
    "ca0 = np.array([14.7525,13.5699,13.8464,12.4669,12.7609,13.2840])\n",
    "\n",
    "# Define the function to fit\n",
    "def fit_func(data, a0, a1, c0):\n",
    "    T, mu = data\n",
    "    k = np.concatenate((kp(T, a0, a1), kag(T, mu, ca0, c0)))\n",
    "    return k\n",
    "\n",
    "# Define the data as a tuple\n",
    "data = (T, mu)\n",
    "\n",
    "# Perform the fit\n",
    "p0 = np.array([.1, .1, .1]) # initial guesses for a0, a1, and c0\n",
    "popt, pcov = curve_fit(fit_func, data, np.concatenate((best_kp_set, best_kag_set)), p0=p0)\n",
    "\n",
    "# Extract parameters\n",
    "a0, a1, c0 = popt\n",
    "\n",
    "# Print the results\n",
    "print(f\"a0 = {a0:.4f}\")\n",
    "print(f\"a1 = {a1:.4f}\")\n",
    "print(f\"c0 = {c0:.4f}\")"
   ]
  },
  {
   "attachments": {},
   "cell_type": "markdown",
   "metadata": {},
   "source": [
    "Using these coefficients solve the differential equations to obtain a new approximation"
   ]
  },
  {
   "cell_type": "code",
   "execution_count": null,
   "metadata": {},
   "outputs": [],
   "source": [
    "# define functions\n",
    "# NOTE: you don't need to write docstrings for every function (though you could), but write enough so that it is clear how to use your functions\n",
    "set = 2\n",
    "def derivatives_a0a1c0(t, y, a0, a1, c0):\n",
    "    R = 8.314\n",
    "    cf, cag, c = y\n",
    "    \n",
    "    dcfdt = -(a0/np.exp(a1/T[set]))*(cf - ceq)\n",
    "    dcagdt = (ca0[set]*(.00089)*((R*T[set])/(mu[set]))*c0)*c**2\n",
    "    dcdt = (a0/np.exp(a1/T[set]))*(cf - ceq) - (ca0[set]*(.00089)*((R*T[set])/(mu[set]))*c0)*c**2\n",
    "    \n",
    "    return [dcfdt, dcagdt, dcdt]\n",
    "\n",
    "# time span\n",
    "t_span = (0.0, t_exp[-1])\n",
    "\n",
    "# initial conditions\n",
    "y0 = [1.0, 0.0, 0.0]\n",
    "\n",
    "# Define a function that returns the model values for given parameters\n",
    "def model(t, a0, a1, c0):\n",
    "    sol = solve_ivp(fun=lambda t, y: derivatives_a0a1c0(t, y, a0, a1, c0), t_span=t_span, y0=y0, t_eval=t_exp)\n",
    "    c_model = sol.y[0]\n",
    "    return c_model"
   ]
  },
  {
   "cell_type": "markdown",
   "metadata": {},
   "source": [
    "Plot the new function given by coefficients a0, a1 and c0"
   ]
  },
  {
   "cell_type": "code",
   "execution_count": null,
   "metadata": {},
   "outputs": [],
   "source": [
    "# Plot the model predictions using the best coefficients\n",
    "sol_best = solve_ivp(fun=lambda t, y: derivatives_a0a1c0(t, y, a0, a1, c0), t_span=t_span, y0=y0, t_eval=t_exp)\n",
    "plt.plot(t_exp, c_exp, label='exp')\n",
    "#plt.plot(sol_best.t, sol_best.y[0], label='cf')\n",
    "plt.plot(sol_best.t, sol_best.y[1], label='cag')\n",
    "#plt.plot(sol_best.t, sol_best.y[2], label='c')\n",
    "plt.legend()\n",
    "plt.xlabel('Time')\n",
    "plt.ylabel('Concentration')\n",
    "plt.show()\n",
    "\n",
    "#Show R2\n",
    "print('R2 Score:',r2_score(c_exp,sol_best.y[1])*100,'%')"
   ]
  }
 ],
 "metadata": {
  "kernelspec": {
   "display_name": "base",
   "language": "python",
   "name": "python3"
  },
  "language_info": {
   "codemirror_mode": {
    "name": "ipython",
    "version": 3
   },
   "file_extension": ".py",
   "mimetype": "text/x-python",
   "name": "python",
   "nbconvert_exporter": "python",
   "pygments_lexer": "ipython3",
   "version": "3.9.12"
  },
  "orig_nbformat": 4
 },
 "nbformat": 4,
 "nbformat_minor": 2
}
