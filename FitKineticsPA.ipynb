{
 "cells": [
  {
   "attachments": {},
   "cell_type": "markdown",
   "metadata": {},
   "source": [
    "# Tuning the kinetic parameters for asphaltene precipitation and aggregation\n",
    "\n",
    "This code calculates kp and kag coefficients to fit the differential equation system to experimental data. From the best calculated kp and kag, a0, a1 and c0 coefficients are calculated. These coefficients depend on Temperature and viscosity.\n",
    "\n",
    "In the case of a Python script file (`*.py`), I will write a [module-level docstring][mod_docstring] (because you can't write markdown in a Python script).\n",
    "\n",
    "<!--refs-->\n",
    "[mod_docstring]: https://realpython.com/documenting-python-code/"
   ]
  },
  {
   "cell_type": "code",
   "execution_count": 192,
   "metadata": {},
   "outputs": [],
   "source": [
    "# import packages\n",
    "import pandas as pd\n",
    "import numpy as np\n",
    "import matplotlib.pyplot as plt\n",
    "from scipy.integrate import solve_ivp\n",
    "from scipy.optimize import curve_fit\n",
    "from sklearn.metrics import r2_score\n",
    "from scipy.optimize import fsolve"
   ]
  },
  {
   "cell_type": "code",
   "execution_count": 193,
   "metadata": {},
   "outputs": [
    {
     "name": "stdout",
     "output_type": "stream",
     "text": [
      "    time (min)  Cag (-)\n",
      "0          0.0    0.000\n",
      "1          1.2    0.003\n",
      "2          2.2    0.008\n",
      "3          3.2    0.015\n",
      "4          4.2    0.023\n",
      "5          5.8    0.034\n",
      "6          6.8    0.042\n",
      "7          8.8    0.049\n",
      "8         10.0    0.060\n",
      "9         12.0    0.067\n",
      "10        14.0    0.072\n",
      "11        17.0    0.080\n",
      "12        20.0    0.087\n",
      "13        23.0    0.094\n",
      "14        27.0    0.100\n",
      "15        32.0    0.106\n",
      "16        39.0    0.113\n",
      "17        45.0    0.119\n",
      "18        53.0    0.123\n",
      "19        61.0    0.127\n",
      "20        77.0    0.130\n",
      "21        90.0    0.133\n",
      "22       102.0    0.135\n",
      "23       118.0    0.138\n",
      "24       133.0    0.139\n",
      "25       149.0    0.140\n",
      "26       166.0    0.141\n",
      "27       178.0    0.142\n",
      "28       197.0    0.142\n",
      "29       214.0    0.142\n",
      "30       232.0    0.142\n",
      "31       250.0    0.142\n",
      "32       268.0    0.142\n",
      "33       286.0    0.142\n",
      "34       307.0    0.142\n",
      "35       325.0    0.142\n",
      "36       343.0    0.142\n",
      "37       361.0    0.142\n",
      "38       376.0    0.142\n",
      "39       389.0    0.142\n",
      "40       399.0    0.142\n"
     ]
    }
   ],
   "source": [
    "# read excel data\n",
    "file_name = 'Ag_kinetics.xlsx'\n",
    "df = pd.read_excel(file_name, sheet_name='Set1', header=0, usecols='b:c')\n",
    "print(df)"
   ]
  },
  {
   "cell_type": "code",
   "execution_count": 194,
   "metadata": {},
   "outputs": [],
   "source": [
    "# pass raw data to numpy arrays\n",
    "data = df.to_numpy()\n",
    "t_exp = data[:,0]\n",
    "c_exp = data[:,1]"
   ]
  },
  {
   "cell_type": "code",
   "execution_count": 195,
   "metadata": {},
   "outputs": [],
   "source": [
    "# define functions\n",
    "# NOTE: you don't need to write docstrings for every function (though you could), but write enough so that it is clear how to use your functions\n",
    "def derivatives(t, y, kp, kag):\n",
    "    '''\n",
    "    arguments\n",
    "    ---------\n",
    "    t : float\n",
    "        time [min]\n",
    "    y : array[float]\n",
    "        xyz\n",
    "    kP : float\n",
    "        precipitation kinetics [1/s]\n",
    "    kAg : float\n",
    "        aggregation kinetics [1/s]\n",
    "    \n",
    "    return\n",
    "    ------\n",
    "    \n",
    "    '''\n",
    "    cf, cag, c = y\n",
    "    \n",
    "    dcfdt = -kp*(cf - .8583)\n",
    "    dcagdt = kag*c**2\n",
    "    dcdt = kp*(cf - .8583) - kag*c**2\n",
    "    \n",
    "    return [dcfdt, dcagdt, dcdt]\n",
    "\n",
    "# time span\n",
    "t_span = (0.0, t_exp[-1])\n",
    "\n",
    "# initial conditions\n",
    "y0 = [1.0, 0.0, 0.0]\n",
    "\n",
    "# Define a function that returns the model values for given parameters\n",
    "def model(t, kp, kag):\n",
    "    sol = solve_ivp(fun=lambda t, y: derivatives(t, y, kp, kag), t_span=t_span, y0=y0, t_eval=t)\n",
    "    c_model = sol.y[0]\n",
    "    return c_model"
   ]
  },
  {
   "attachments": {},
   "cell_type": "markdown",
   "metadata": {},
   "source": [
    "Use curve_fit to find the best coefficient values to fit experimental data"
   ]
  },
  {
   "cell_type": "code",
   "execution_count": 196,
   "metadata": {},
   "outputs": [
    {
     "name": "stdout",
     "output_type": "stream",
     "text": [
      "Best kp: 1.9983645844465134\n",
      "Best kag: 0.49110442747547256\n"
     ]
    }
   ],
   "source": [
    "\n",
    "# Use curve_fit to find the best values for kp and kag\n",
    "popt, pcov = curve_fit(model, t_exp, c_exp, p0=[.5, .5],method='dogbox')\n",
    "\n",
    "# Extract the best values for kp and kag\n",
    "kp_best, kag_best = popt\n",
    "\n",
    "# Print the best values\n",
    "print(f\"Best kp: {kp_best}\")\n",
    "print(f\"Best kag: {kag_best}\")"
   ]
  },
  {
   "cell_type": "code",
   "execution_count": 197,
   "metadata": {},
   "outputs": [
    {
     "data": {
      "image/png": "[encoded data removed]",
      "text/plain": [
       "<Figure size 432x288 with 1 Axes>"
      ]
     },
     "metadata": {
      "needs_background": "light"
     },
     "output_type": "display_data"
    },
    {
     "name": "stdout",
     "output_type": "stream",
     "text": [
      "R2 Score: 97.12779284045759 %\n"
     ]
    }
   ],
   "source": [
    "# Plot the model predictions using the best coefficients\n",
    "sol_best = solve_ivp(fun=lambda t, y: derivatives(t, y, kp_best, kag_best), t_span=t_span, y0=y0, t_eval=t_exp)\n",
    "plt.plot(t_exp, c_exp, label='exp')\n",
    "#plt.plot(sol_best.t, sol_best.y[0], label='cf')\n",
    "plt.plot(sol_best.t, sol_best.y[1], label='cag')\n",
    "#plt.plot(sol_best.t, sol_best.y[2], label='c')\n",
    "plt.legend()\n",
    "plt.xlabel('Time')\n",
    "plt.ylabel('Concentration')\n",
    "plt.show()\n",
    "\n",
    "#Show R2\n",
    "print('R2 Score:',r2_score(c_exp,sol_best.y[1])*100,'%')"
   ]
  },
  {
   "attachments": {},
   "cell_type": "markdown",
   "metadata": {},
   "source": [
    "From best kp and kag, find coefficients a0, a1, and c0"
   ]
  },
  {
   "cell_type": "code",
   "execution_count": 198,
   "metadata": {},
   "outputs": [
    {
     "name": "stdout",
     "output_type": "stream",
     "text": [
      "best a0 [2.00475935]\n",
      "best a1 [1.]\n",
      "best c0 6.983052916574821\n"
     ]
    },
    {
     "name": "stderr",
     "output_type": "stream",
     "text": [
      "c:\\ProgramData\\Anaconda3\\lib\\site-packages\\scipy\\optimize\\minpack.py:175: RuntimeWarning: The iteration is not making good progress, as measured by the \n",
      "  improvement from the last ten iterations.\n",
      "  warnings.warn(msg, RuntimeWarning)\n"
     ]
    }
   ],
   "source": [
    "#set experimental data conditions\n",
    "T_calc = 313 #Experimental temperature used for coefficient calculation\n",
    "ca0 = 14.75250197\n",
    "mu_calc = 0.485850242 #Experimental visco used for coefficient calculation\n",
    "R = 8.3144\n",
    "ceq = .8583\n",
    "\n",
    "def equation(a1):\n",
    "    return a1 - T_calc * np.log((kp_best * np.exp(a1/T_calc)) / ceq / ca0)\n",
    "\n",
    "# Solve for a1, the equation is non-linear fsolve is used to solve\n",
    "a1 = fsolve(equation, 1.0)\n",
    "\n",
    "# Calculate a0 and c0 using the expressions we derived earlier\n",
    "a0 = kp_best * np.exp(a1/T_calc)\n",
    "c0 = kag_best / (ca0*(.00089)*((R*T_calc)/(mu_calc*1000)))\n",
    "\n",
    "#Prediction parameters\n",
    "\n",
    "T = T_calc\n",
    "mu = mu_calc\n",
    "\n",
    "# define functions\n",
    "def derivatives_a0a1c0(t, y, a0, a1, c0):\n",
    "    cf, cag, c = y\n",
    "    \n",
    "    dcfdt = -(a0/np.exp(a1/T))*(cf - ceq)\n",
    "    dcagdt = (ca0*(.00089)*((R*T)/(mu*1000))*c0)*c**2\n",
    "    dcdt = (a0/np.exp(a1/T))*(cf - ceq) - (ca0*(.00089)*((R*T)/(mu*1000))*c0)*c**2\n",
    "    \n",
    "    return [dcfdt, dcagdt, dcdt]\n",
    "\n",
    "print('best a0', a0)\n",
    "print('best a1', a1)\n",
    "print('best c0', c0)"
   ]
  },
  {
   "cell_type": "code",
   "execution_count": 199,
   "metadata": {},
   "outputs": [
    {
     "data": {
      "image/png": "[encoded data removed]",
      "text/plain": [
       "<Figure size 432x288 with 1 Axes>"
      ]
     },
     "metadata": {
      "needs_background": "light"
     },
     "output_type": "display_data"
    },
    {
     "name": "stdout",
     "output_type": "stream",
     "text": [
      "R2 Score: 91.20910815612385 %\n"
     ]
    }
   ],
   "source": [
    "# Plot the model predictions using the best coefficients\n",
    "sol_best = solve_ivp(fun=lambda t, y: derivatives_a0a1c0(t, y, a0, a1, c0), t_span=t_span, y0=y0, t_eval=t_exp)\n",
    "plt.plot(t_exp, c_exp, label='exp')\n",
    "#plt.plot(sol_best.t, sol_best.y[0], label='cf')\n",
    "plt.plot(sol_best.t, sol_best.y[1], label='cag')\n",
    "#plt.plot(sol_best.t, sol_best.y[2], label='c')\n",
    "plt.legend()\n",
    "plt.xlabel('Time')\n",
    "plt.ylabel('Concentration')\n",
    "plt.show()\n",
    "\n",
    "#Show R2\n",
    "print('R2 Score:',r2_score(c_exp,sol_best.y[1])*100,'%')"
   ]
  }
 ],
 "metadata": {
  "kernelspec": {
   "display_name": "base",
   "language": "python",
   "name": "python3"
  },
  "language_info": {
   "codemirror_mode": {
    "name": "ipython",
    "version": 3
   },
   "file_extension": ".py",
   "mimetype": "text/x-python",
   "name": "python",
   "nbconvert_exporter": "python",
   "pygments_lexer": "ipython3",
   "version": "3.9.12"
  },
  "orig_nbformat": 4
 },
 "nbformat": 4,
 "nbformat_minor": 2
}
