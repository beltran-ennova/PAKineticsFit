{
 "cells": [
  {
   "cell_type": "code",
   "execution_count": 46,
   "metadata": {},
   "outputs": [],
   "source": [
    "# import packages\n",
    "import numpy as np\n",
    "import pandas as pd"
   ]
  },
  {
   "cell_type": "markdown",
   "metadata": {},
   "source": [
    "# Tutorials\n",
    "\n",
    ":books: **References**:\n",
    "  + [Python Tutorial][pt_home]\n",
    "    + [Get Started][pt_getStarted], [Basics][pt_basics], [NumPy][pt_numpy]\n",
    "  + [Python Basics][basic_home]\n",
    "  + [Python Cheatsheet][cheat_home]\n",
    "  + [Digital Ocean][do_home]\n",
    "\n",
    "**Recommendations**:\n",
    "There are a lot of good (and free) tutorials to get you started with Python. If you are brand new to programming, then I recommend finding a tutorial that covers the fundamentals (syntax, variables, functions, data types, etc.) and follow it until you are comfortable with the basics. [PythonTutorial.net][pt_home] is a good starting point. \n",
    "\n",
    "Once you are comfortable with the Python language (both its syntax and functionality), then you can more easily find tutorials for learning more advanced functionality -- like multidimensional NumPy arrays, data science tools, and data visualization/plotting -- or use resources like [Python Cheatsheet][cheat_home] more effectively.\n",
    "\n",
    "<!--refs-->\n",
    "[pt_home]: https://www.pythontutorial.net/\n",
    "[pt_getStarted]: https://www.pythontutorial.net/getting-started/\n",
    "[pt_basics]: https://www.pythontutorial.net/python-basics/\n",
    "[pt_numpy]: https://www.pythontutorial.net/python-numpy/\n",
    "[basic_home]: https://pythonbasics.org/ \n",
    "[cheat_home]: https://www.pythoncheatsheet.org/\n",
    "[do_home]: https://www.digitalocean.com/community/tutorial_series/how-to-code-in-python-3"
   ]
  },
  {
   "cell_type": "markdown",
   "metadata": {},
   "source": [
    "# Data Types\n",
    "\n",
    "+ :books: References:\n",
    "  + [RealPython][rp_datatypes]\n",
    "  + [Geeks for Geeks][gfg_datatypes]\n",
    "\n",
    "There are 3 fundamental data types: integers, floats, strings\n",
    "\n",
    "<!--refs-->\n",
    "[rp_datatypes]: https://realpython.com/python-data-types/\n",
    "[gfg_datatypes]: https://www.geeksforgeeks.org/python-data-types/"
   ]
  },
  {
   "cell_type": "markdown",
   "metadata": {},
   "source": [
    "## list/tuple manipulations"
   ]
  },
  {
   "cell_type": "code",
   "execution_count": 47,
   "metadata": {},
   "outputs": [
    {
     "name": "stdout",
     "output_type": "stream",
     "text": [
      "[(0, 5), (1, 6), (2, 7), (3, 8)]\n"
     ]
    }
   ],
   "source": [
    "xy = [(0,5), (1,6), (2,7), (3,8)]\n",
    "\n",
    "print(xy)"
   ]
  },
  {
   "cell_type": "code",
   "execution_count": 48,
   "metadata": {},
   "outputs": [
    {
     "name": "stdout",
     "output_type": "stream",
     "text": [
      "x=[0, 1, 2, 3], y=[5, 6, 7, 8]\n"
     ]
    }
   ],
   "source": [
    "x = [item[0] for item in xy]\n",
    "y = [item[1] for item in xy]\n",
    "print(f'x={x}, y={y}')"
   ]
  },
  {
   "cell_type": "code",
   "execution_count": 49,
   "metadata": {},
   "outputs": [
    {
     "name": "stdout",
     "output_type": "stream",
     "text": [
      "x=[0, 1, 2, 3], y=[5, 6, 7, 8]\n"
     ]
    }
   ],
   "source": [
    "x, y = [[item[0] for item in xy], [item[1] for item in xy]]\n",
    "print(f'x={x}, y={y}')"
   ]
  },
  {
   "cell_type": "code",
   "execution_count": 50,
   "metadata": {},
   "outputs": [
    {
     "name": "stdout",
     "output_type": "stream",
     "text": [
      "x=(0, 1, 2, 3), y=(5, 6, 7, 8)\n"
     ]
    }
   ],
   "source": [
    "x, y = zip(*xy)\n",
    "print(f'x={x}, y={y}')"
   ]
  },
  {
   "cell_type": "markdown",
   "metadata": {},
   "source": [
    "## for-loop syntaxes"
   ]
  },
  {
   "cell_type": "code",
   "execution_count": 51,
   "metadata": {},
   "outputs": [],
   "source": [
    "# define list\n",
    "x = [1, 3, 5]"
   ]
  },
  {
   "cell_type": "code",
   "execution_count": 52,
   "metadata": {},
   "outputs": [
    {
     "name": "stdout",
     "output_type": "stream",
     "text": [
      "i=1\n",
      "i=3\n",
      "i=5\n"
     ]
    }
   ],
   "source": [
    "# loop over list and extract each element \n",
    "for i in x:\n",
    "    print(f'i={i}')"
   ]
  },
  {
   "cell_type": "code",
   "execution_count": 53,
   "metadata": {},
   "outputs": [
    {
     "name": "stdout",
     "output_type": "stream",
     "text": [
      "i=0, y=1\n",
      "i=1, y=3\n",
      "i=2, y=5\n"
     ]
    }
   ],
   "source": [
    "# loop over list by index\n",
    "for i in range(len(x)):\n",
    "    y = x[i]\n",
    "    print(f'i={i}, y={y}')"
   ]
  },
  {
   "cell_type": "code",
   "execution_count": 54,
   "metadata": {},
   "outputs": [
    {
     "name": "stdout",
     "output_type": "stream",
     "text": [
      "i=(0, 1)\n",
      "i=(1, 3)\n",
      "i=(2, 5)\n"
     ]
    }
   ],
   "source": [
    "# loop over list using `enumerate()`\n",
    "for i in enumerate(x):\n",
    "    print(f'i={i}')"
   ]
  },
  {
   "cell_type": "code",
   "execution_count": 56,
   "metadata": {},
   "outputs": [
    {
     "name": "stdout",
     "output_type": "stream",
     "text": [
      "i=0, y=1\n",
      "i=1, y=3\n",
      "i=2, y=5\n"
     ]
    }
   ],
   "source": [
    "# loop over list using `enumerate()`\n",
    "for i, y in enumerate(x):\n",
    "    print(f'i={i}, y={y}')"
   ]
  }
 ],
 "metadata": {
  "kernelspec": {
   "display_name": "Python 3.9.12 ('.venv': venv)",
   "language": "python",
   "name": "python3"
  },
  "language_info": {
   "codemirror_mode": {
    "name": "ipython",
    "version": 3
   },
   "file_extension": ".py",
   "mimetype": "text/x-python",
   "name": "python",
   "nbconvert_exporter": "python",
   "pygments_lexer": "ipython3",
   "version": "3.9.12"
  },
  "orig_nbformat": 4,
  "vscode": {
   "interpreter": {
    "hash": "a50390a2bc3c6cab48ff13e8a3d4c6015823f89403d035666842871f04d3724f"
   }
  }
 },
 "nbformat": 4,
 "nbformat_minor": 2
}
